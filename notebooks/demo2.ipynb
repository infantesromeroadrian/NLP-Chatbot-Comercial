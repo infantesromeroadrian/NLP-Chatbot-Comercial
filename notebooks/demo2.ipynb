{
 "cells": [
  {
   "cell_type": "code",
   "outputs": [],
   "source": [
    "import os\n",
    "import requests\n",
    "from getpass import getpass\n",
    "from langchain.document_loaders import PyPDFLoader\n",
    "from langchain.text_splitter import RecursiveCharacterTextSplitter\n",
    "from langchain.embeddings import OpenAIEmbeddings\n",
    "from langchain.vectorstores import Chroma\n",
    "from langchain.chat_models import ChatOpenAI\n",
    "from langchain.chains import RetrievalQA\n",
    "\n",
    "OPENAI_API_KEY = getpass(\"Enter your OpenAI API key: \")\n",
    "os.environ[\"OPENAI_API_KEY\"] = OPENAI_API_KEY"
   ],
   "metadata": {
    "collapsed": false
   },
   "id": "67de3d3cdcd0d942"
  },
  {
   "cell_type": "code",
   "execution_count": null,
   "id": "initial_id",
   "metadata": {
    "collapsed": true
   },
   "outputs": [],
   "source": [
    "import nltk\n",
    "from nltk.corpus import stopwords\n",
    "from nltk.tokenize import word_tokenize\n",
    "\n",
    "# Descargar recursos de NLTK\n",
    "nltk.download('punkt')\n",
    "nltk.download('stopwords')\n",
    "\n",
    "\n",
    "class Chatbot:\n",
    "    def __init__(self, qa_chain, openai_chat_model):\n",
    "        self.qa_chain = qa_chain\n",
    "        self.openai_chat_model = openai_chat_model\n",
    "        self.respuestas_predefinidas = {\n",
    "            \"inicio_conversacion\": \"Hola, estás escribiendo a la DG Flota - Partner de Yango Perú. ¿Cómo podemos ayudarte?\",\n",
    "            \"como_usar_yango\": \"Descubre cómo usar la app YANGO con nuestro video tutorial. Disponible en Lima, Arequipa y Trujillo, y próximamente en más ciudades. Guía para Lima: https://youtu.be/P1c7s2l14_s, y para otras provincias: aquí https://youtu.be/lxAH7UCJ_6g\",\n",
    "            \"proceso_afiliacion\": \"Para afiliarse y comenzar a usar Yango, complete los siguientes formularios: Afiliación a DG FLOTA: https://forms.gle/43sM6PaZttYX5hom8 Registro de Cuenta para Pagos: https://forms.gle/sQVmDxDe9Gq3Gsku6 Una vez completados, envíenos capturas de pantalla de ambos para confirmar su afiliación.\",\n",
    "            \"registrar_informacion_bancaria\": \"Para habilitar los depósitos de tu saldo en Yango, por favor, completa este formulario: https://forms.gle/sQVmDxDe9Gq3Gsku6.\",\n",
    "            \"bono\": \"Para obtener bonos con Yango, ten en cuenta lo siguiente: En el aplicativo, consulta el sistema de bonificación que ofrece recompensas por alcanzar un número específico de viajes. Mantén un puntaje de Actividad de 40 o más para calificar para el bono. Los bonos se añadirán a tu saldo al día siguiente de haber completado los viajes requeridos. Cuantos más viajes completes, mayores serán los beneficios que recibirás.\",\n",
    "            \"referir_conductor\": \"Para referir conductores a Yango, sigue estos pasos según cada situación: Referir a un Nuevo Conductor: Ve a tu perfil y selecciona 'Invitar a un amigo'. Copia y comparte tu código con el nuevo conductor. El referido debe descargar la app Yango y usar tu código al registrarse. Si no encuentra DG Flota como opción de partner, puede contactarnos a través de este enlace: https://wa.me/51991672576 Conductor en Otra Flota: Para conductores que deseen cambiar a nuestra flota, comparte este enlace: https://wa.me/51991672576\",\n",
    "            \"cambiar_partner\": \"Para cambiarte a la DG Flota, sigue estos pasos: Completa el formulario de Afiliación de DG FLOTA en: https://forms.gle/43sM6PaZttYX5hom8 Llena el formulario para tu Cuenta de Pagos en: https://forms.gle/sQVmDxDe9Gq3Gsku6 Envíanos capturas de pantalla de ambos formularios una vez que estén completados.\",\n",
    "            \"cambio_vehiculo\": \"Para cambiar tu vehículo en la aplicación, envíanos los siguientes detalles: Marca del vehículo, Modelo, Color, Año, Placa del vehículo, Número de licencia en la aplicación Yango. Tras enviar esta información, espera nuestra confirmación para reiniciar la app y visualizar los cambios.\",\n",
    "            \"condiciones_pago\": \"Frecuencia: Diaria (lunes a viernes) o Semanal (Pago los Martes). El horario regular de pago de saldos es de 6pm a 8pm. Horarios de Corte: 3pm-6pm; pago al día siguiente. Mínimo para Pago: Saldo de 20 soles al corte. No Pagos: Fines de semana y feriados. Comunicación: Contacto inicial por WhatsApp, esperar confirmación para cambios en app.\",\n",
    "            \"comisiones\": \"La comisión total por viaje para conductores afiliados a DG Flota es del 15%, incluyendo la comisión de Yango del 12% y una comisión adicional de 3%.\",\n",
    "            \"preguntas_sin_informacion\": \"En este momento te derivamos con un operador para que atienda tu duda.\"\n",
    "        }\n",
    "        \n",
    "    def identificar_palabras_clave(self, texto):\n",
    "        palabras = word_tokenize(texto)\n",
    "        palabras_filtradas = [palabra for palabra in palabras if palabra not in stopwords.words('spanish')]\n",
    "        return palabras_filtradas\n",
    "\n",
    "    def obtener_respuesta(self, clave_pregunta):\n",
    "        clave_pregunta = clave_pregunta.lower()\n",
    "        respuesta = self.respuestas_predefinidas.get(clave_pregunta)\n",
    "\n",
    "        if respuesta:\n",
    "            return respuesta\n",
    "        else:\n",
    "            # Primero intentar con QAChain\n",
    "            respuesta_qa_chain = self.qa_chain.query(clave_pregunta)\n",
    "            if respuesta_qa_chain:\n",
    "                return respuesta_qa_chain\n",
    "            else:\n",
    "                # Si QAChain no encuentra respuesta, usar OpenAI Chat Model\n",
    "                return self.openai_chat_model.query(clave_pregunta)\n",
    "\n",
    "# Ejemplo de inicialización y uso\n",
    "if __name__ == \"__main__\":\n",
    "    # Asumiendo que 'retriever' y 'openai_chat_model' están definidos y configurados\n",
    "    chain = QAChain(retriever)\n",
    "    openai_chat = ChatOpenAI(...)  # Configuración del modelo de chat de OpenAI\n",
    "    bot = Chatbot(chain, openai_chat)\n",
    "\n",
    "    while True:\n",
    "        pregunta_usuario = input(\"Usuario: \")\n",
    "        if pregunta_usuario.lower() == \"salir\":\n",
    "            break\n",
    "        respuesta = bot.obtener_respuesta(pregunta_usuario)\n",
    "        print(\"Chatbot:\", respuesta)"
   ]
  }
 ],
 "metadata": {
  "kernelspec": {
   "display_name": "Python 3",
   "language": "python",
   "name": "python3"
  },
  "language_info": {
   "codemirror_mode": {
    "name": "ipython",
    "version": 2
   },
   "file_extension": ".py",
   "mimetype": "text/x-python",
   "name": "python",
   "nbconvert_exporter": "python",
   "pygments_lexer": "ipython2",
   "version": "2.7.6"
  }
 },
 "nbformat": 4,
 "nbformat_minor": 5
}
